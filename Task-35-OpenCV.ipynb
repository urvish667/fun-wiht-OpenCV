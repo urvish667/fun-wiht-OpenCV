{
 "cells": [
  {
   "cell_type": "markdown",
   "metadata": {},
   "source": [
    "<h2>Create an image using Python OpenCV module</h2>"
   ]
  },
  {
   "cell_type": "code",
   "execution_count": 1,
   "metadata": {},
   "outputs": [],
   "source": [
    "#importing cv2\n",
    "import cv2\n",
    "import numpy as np\n",
    "\n",
    "#function for creating diamond shape with numpy array\n",
    "def diamond(n):\n",
    "    a = np.arange(n)\n",
    "    b = np.minimum(a,a[::-1])\n",
    "    return (((b[:,None]+b)>=(n-1)//2)*1)*255\n",
    "\n",
    "#Converting array into numpy array\n",
    "img = np.array(diamond(501), np.uint8)\n",
    "\n",
    "#Showing the image\n",
    "cv2.imshow(\"image\", img)\n",
    "cv2.waitKey(0)\n",
    "cv2.destroyAllWindows()"
   ]
  },
  {
   "cell_type": "markdown",
   "metadata": {},
   "source": [
    "<h2>Swap some part of the image with another image and vice varsa</h2>"
   ]
  },
  {
   "cell_type": "code",
   "execution_count": 48,
   "metadata": {},
   "outputs": [
    {
     "data": {
      "text/plain": [
       "True"
      ]
     },
     "execution_count": 48,
     "metadata": {},
     "output_type": "execute_result"
    }
   ],
   "source": [
    "#importing cv2 module\n",
    "import cv2\n",
    "import copy\n",
    "import numpy as np\n",
    "\n",
    "naruto = cv2.imread(\"naruto.jpg\")\n",
    "sasuke = cv2.imread(\"sasuke.jpg\")\n",
    "\n",
    "naruto_face = naruto[0:340, 128:388]\n",
    "sasuke_face = sasuke[0:340, 200:460]\n",
    "temp_face = copy.copy(naruto_face)\n",
    "\n",
    "naruto[0:340, 128:388] = sasuke_face\n",
    "cv2.imwrite(\"sasuke_new.jpg\", naruto)\n",
    "sasuke[0:340, 200:460] = temp_face\n",
    "cv2.imwrite(\"naruto_new.jpg\", sasuke)"
   ]
  },
  {
   "cell_type": "markdown",
   "metadata": {},
   "source": [
    "<h2>Create a collage from two or more images</h2>"
   ]
  },
  {
   "cell_type": "code",
   "execution_count": 20,
   "metadata": {},
   "outputs": [],
   "source": [
    "#importing cv2 module\n",
    "import cv2\n",
    "import numpy as np\n",
    "\n",
    "naruto = cv2.imread(\"naruto.jpg\")\n",
    "sasuke = cv2.imread(\"sasuke.jpg\")\n",
    "\n",
    "img = np.hstack([naruto ,sasuke])\n",
    "\n",
    "cv2.imshow(\"image\", img)\n",
    "cv2.waitKey(0)\n",
    "cv2.destroyAllWindows()"
   ]
  },
  {
   "cell_type": "code",
   "execution_count": null,
   "metadata": {},
   "outputs": [],
   "source": []
  }
 ],
 "metadata": {
  "kernelspec": {
   "display_name": "Python 3",
   "language": "python",
   "name": "python3"
  },
  "language_info": {
   "codemirror_mode": {
    "name": "ipython",
    "version": 3
   },
   "file_extension": ".py",
   "mimetype": "text/x-python",
   "name": "python",
   "nbconvert_exporter": "python",
   "pygments_lexer": "ipython3",
   "version": "3.8.3"
  }
 },
 "nbformat": 4,
 "nbformat_minor": 4
}
